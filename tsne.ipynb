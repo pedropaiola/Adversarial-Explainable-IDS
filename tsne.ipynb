{
 "cells": [
  {
   "cell_type": "code",
   "execution_count": 1,
   "metadata": {},
   "outputs": [],
   "source": [
    "import matplotlib.pyplot as plt\n",
    "import seaborn as sns\n",
    "%matplotlib inline\n",
    "import pandas as pd\n",
    "import _pickle as cPickle\n",
    "import numpy as np\n",
    "from sklearn.preprocessing import Normalizer\n",
    "from sklearn.manifold import TSNE\n",
    "sns.set(rc={'figure.figsize':(10, 8)})"
   ]
  },
  {
   "cell_type": "code",
   "execution_count": 2,
   "metadata": {},
   "outputs": [],
   "source": [
    "def obterDataset(filename):\n",
    "    df = pd.read_csv(filename)\n",
    "    return df"
   ]
  },
  {
   "cell_type": "code",
   "execution_count": 3,
   "metadata": {},
   "outputs": [],
   "source": [
    "def obterScaler(filename):\n",
    "    with open(filename, 'rb') as fid:\n",
    "        scaler = cPickle.load(fid) \n",
    "    return scaler"
   ]
  },
  {
   "cell_type": "code",
   "execution_count": 4,
   "metadata": {},
   "outputs": [],
   "source": [
    "tsnedfs = [None for x in range(7)] #desnecessário, mas não tive tempo de alterar\n",
    "ys = [None for x in range(7)]\n",
    "dfConcats = [None for x in range(7)]\n",
    "markers = [None for x in range(7)]"
   ]
  },
  {
   "cell_type": "markdown",
   "metadata": {},
   "source": [
    "<h1>Normal - DoS</h1>"
   ]
  },
  {
   "cell_type": "code",
   "execution_count": 5,
   "metadata": {},
   "outputs": [],
   "source": [
    "filepath = 'datasets_resultados/Normal_DoS/'\n",
    "classeInc = \"Normal\"\n",
    "classeReal = \"Adversária\"\n",
    "idx = 0"
   ]
  },
  {
   "cell_type": "code",
   "execution_count": 6,
   "metadata": {},
   "outputs": [],
   "source": [
    "dfOrig = obterDataset(filepath + 'orig_normalizado.csv')\n",
    "yOrig = [classeInc for x in range(dfOrig.shape[0])]\n",
    "dfAdvers = obterDataset(filepath + 'advers_normalizado.csv')\n",
    "yAdvers = [classeReal for x in range(dfAdvers.shape[0])]\n",
    "dfCon = pd.concat([dfOrig, dfAdvers])\n",
    "dfConcats[idx] = dfCon\n",
    "ys[idx] = yOrig + yAdvers\n",
    "markers[idx] = ['o' for x in range(dfOrig.shape[0])] + ['+' for x in range(dfAdvers.shape[0])]"
   ]
  },
  {
   "cell_type": "code",
   "execution_count": 7,
   "metadata": {},
   "outputs": [],
   "source": [
    "tsne = TSNE(n_components=2, random_state=0)"
   ]
  },
  {
   "cell_type": "code",
   "execution_count": 8,
   "metadata": {},
   "outputs": [],
   "source": [
    "tsne_obj = tsne.fit_transform(dfCon)"
   ]
  },
  {
   "cell_type": "code",
   "execution_count": 9,
   "metadata": {},
   "outputs": [
    {
     "data": {
      "text/html": [
       "<div>\n",
       "<style scoped>\n",
       "    .dataframe tbody tr th:only-of-type {\n",
       "        vertical-align: middle;\n",
       "    }\n",
       "\n",
       "    .dataframe tbody tr th {\n",
       "        vertical-align: top;\n",
       "    }\n",
       "\n",
       "    .dataframe thead th {\n",
       "        text-align: right;\n",
       "    }\n",
       "</style>\n",
       "<table border=\"1\" class=\"dataframe\">\n",
       "  <thead>\n",
       "    <tr style=\"text-align: right;\">\n",
       "      <th></th>\n",
       "      <th>X</th>\n",
       "      <th>Y</th>\n",
       "      <th>classe</th>\n",
       "    </tr>\n",
       "  </thead>\n",
       "  <tbody>\n",
       "    <tr>\n",
       "      <th>0</th>\n",
       "      <td>12.476386</td>\n",
       "      <td>21.314489</td>\n",
       "      <td>Normal</td>\n",
       "    </tr>\n",
       "    <tr>\n",
       "      <th>1</th>\n",
       "      <td>-52.778774</td>\n",
       "      <td>53.617561</td>\n",
       "      <td>Normal</td>\n",
       "    </tr>\n",
       "    <tr>\n",
       "      <th>2</th>\n",
       "      <td>18.721022</td>\n",
       "      <td>56.589184</td>\n",
       "      <td>Normal</td>\n",
       "    </tr>\n",
       "    <tr>\n",
       "      <th>3</th>\n",
       "      <td>46.141033</td>\n",
       "      <td>27.913752</td>\n",
       "      <td>Normal</td>\n",
       "    </tr>\n",
       "    <tr>\n",
       "      <th>4</th>\n",
       "      <td>22.451477</td>\n",
       "      <td>-7.324051</td>\n",
       "      <td>Normal</td>\n",
       "    </tr>\n",
       "  </tbody>\n",
       "</table>\n",
       "</div>"
      ],
      "text/plain": [
       "           X          Y  classe\n",
       "0  12.476386  21.314489  Normal\n",
       "1 -52.778774  53.617561  Normal\n",
       "2  18.721022  56.589184  Normal\n",
       "3  46.141033  27.913752  Normal\n",
       "4  22.451477  -7.324051  Normal"
      ]
     },
     "execution_count": 9,
     "metadata": {},
     "output_type": "execute_result"
    }
   ],
   "source": [
    "tsnedfs[idx] = pd.DataFrame({'X':tsne_obj[:,0],\n",
    "                        'Y':tsne_obj[:,1],\n",
    "                        'classe':yOrig + yAdvers})\n",
    "tsnedfs[idx].head()"
   ]
  },
  {
   "cell_type": "code",
   "execution_count": 10,
   "metadata": {
    "scrolled": true
   },
   "outputs": [
    {
     "data": {
      "image/png": "[encoded data removed]",
      "text/plain": [
       "<Figure size 720x576 with 1 Axes>"
      ]
     },
     "metadata": {},
     "output_type": "display_data"
    }
   ],
   "source": [
    "plt.ylim(-150, 150)\n",
    "plt.xlim(-150, 150)\n",
    "\n",
    "sns.scatterplot(x=\"X\", y=\"Y\",\n",
    "              hue=\"classe\",\n",
    "              palette=['red', 'blue'],\n",
    "              legend='full',\n",
    "              data=tsnedfs[idx]);"
   ]
  },
  {
   "cell_type": "code",
   "execution_count": null,
   "metadata": {},
   "outputs": [],
   "source": []
  },
  {
   "cell_type": "markdown",
   "metadata": {},
   "source": [
    "<h1>DoS - Normal</h1>"
   ]
  },
  {
   "cell_type": "code",
   "execution_count": 11,
   "metadata": {},
   "outputs": [],
   "source": [
    "filepath = 'datasets_resultados/DoS_Normal/'\n",
    "classeInc = \"DoS\"\n",
    "classeReal = \"Adversária\"\n",
    "idx = 1"
   ]
  },
  {
   "cell_type": "code",
   "execution_count": 12,
   "metadata": {},
   "outputs": [],
   "source": [
    "dfOrig = obterDataset(filepath + 'orig_normalizado.csv')\n",
    "yOrig = [classeInc for x in range(dfOrig.shape[0])]\n",
    "dfAdvers = obterDataset(filepath + 'advers_normalizado.csv')\n",
    "yAdvers = [classeReal for x in range(dfAdvers.shape[0])]\n",
    "dfCon = pd.concat([dfOrig, dfAdvers])\n",
    "dfConcats[idx] = dfCon\n",
    "ys[idx] = yOrig + yAdvers\n",
    "markers[idx] = ['o' for x in range(dfOrig.shape[0])] + ['+' for x in range(dfAdvers.shape[0])]"
   ]
  },
  {
   "cell_type": "code",
   "execution_count": 13,
   "metadata": {},
   "outputs": [],
   "source": [
    "tsne = TSNE(n_components=2, random_state=0)"
   ]
  },
  {
   "cell_type": "code",
   "execution_count": 14,
   "metadata": {},
   "outputs": [],
   "source": [
    "tsne_obj = tsne.fit_transform(dfCon)"
   ]
  },
  {
   "cell_type": "code",
   "execution_count": 15,
   "metadata": {},
   "outputs": [
    {
     "data": {
      "text/html": [
       "<div>\n",
       "<style scoped>\n",
       "    .dataframe tbody tr th:only-of-type {\n",
       "        vertical-align: middle;\n",
       "    }\n",
       "\n",
       "    .dataframe tbody tr th {\n",
       "        vertical-align: top;\n",
       "    }\n",
       "\n",
       "    .dataframe thead th {\n",
       "        text-align: right;\n",
       "    }\n",
       "</style>\n",
       "<table border=\"1\" class=\"dataframe\">\n",
       "  <thead>\n",
       "    <tr style=\"text-align: right;\">\n",
       "      <th></th>\n",
       "      <th>X</th>\n",
       "      <th>Y</th>\n",
       "      <th>classe</th>\n",
       "    </tr>\n",
       "  </thead>\n",
       "  <tbody>\n",
       "    <tr>\n",
       "      <th>0</th>\n",
       "      <td>-71.191772</td>\n",
       "      <td>74.453926</td>\n",
       "      <td>DoS</td>\n",
       "    </tr>\n",
       "    <tr>\n",
       "      <th>1</th>\n",
       "      <td>-56.422615</td>\n",
       "      <td>-6.281963</td>\n",
       "      <td>DoS</td>\n",
       "    </tr>\n",
       "    <tr>\n",
       "      <th>2</th>\n",
       "      <td>-7.353882</td>\n",
       "      <td>5.709502</td>\n",
       "      <td>DoS</td>\n",
       "    </tr>\n",
       "    <tr>\n",
       "      <th>3</th>\n",
       "      <td>5.290889</td>\n",
       "      <td>29.376701</td>\n",
       "      <td>DoS</td>\n",
       "    </tr>\n",
       "    <tr>\n",
       "      <th>4</th>\n",
       "      <td>35.842419</td>\n",
       "      <td>-28.583117</td>\n",
       "      <td>DoS</td>\n",
       "    </tr>\n",
       "  </tbody>\n",
       "</table>\n",
       "</div>"
      ],
      "text/plain": [
       "           X          Y classe\n",
       "0 -71.191772  74.453926    DoS\n",
       "1 -56.422615  -6.281963    DoS\n",
       "2  -7.353882   5.709502    DoS\n",
       "3   5.290889  29.376701    DoS\n",
       "4  35.842419 -28.583117    DoS"
      ]
     },
     "execution_count": 15,
     "metadata": {},
     "output_type": "execute_result"
    }
   ],
   "source": [
    "tsnedfs[idx] = pd.DataFrame({'X':tsne_obj[:,0],\n",
    "                        'Y':tsne_obj[:,1],\n",
    "                        'classe':yOrig + yAdvers})\n",
    "tsnedfs[idx].head()"
   ]
  },
  {
   "cell_type": "code",
   "execution_count": 16,
   "metadata": {
    "scrolled": false
   },
   "outputs": [
    {
     "data": {
      "image/png": "[encoded data removed]",
      "text/plain": [
       "<Figure size 720x576 with 1 Axes>"
      ]
     },
     "metadata": {},
     "output_type": "display_data"
    }
   ],
   "source": [
    "plt.ylim(-150, 150)\n",
    "plt.xlim(-150, 150)\n",
    "\n",
    "sns.scatterplot(x=\"X\", y=\"Y\",\n",
    "              hue=\"classe\",\n",
    "              palette=['red', 'blue'],\n",
    "              legend='full',\n",
    "              data=tsnedfs[idx]);"
   ]
  },
  {
   "cell_type": "code",
   "execution_count": null,
   "metadata": {},
   "outputs": [],
   "source": []
  },
  {
   "cell_type": "markdown",
   "metadata": {},
   "source": [
    "<h1>Normal - Probe</h1>"
   ]
  },
  {
   "cell_type": "code",
   "execution_count": 17,
   "metadata": {},
   "outputs": [],
   "source": [
    "filepath = 'datasets_resultados/Normal_Probe/'\n",
    "classeInc = \"Normal\"\n",
    "classeReal = \"Adversária\"\n",
    "idx = 2"
   ]
  },
  {
   "cell_type": "code",
   "execution_count": 18,
   "metadata": {},
   "outputs": [],
   "source": [
    "dfOrig = obterDataset(filepath + 'orig_normalizado.csv')\n",
    "yOrig = [classeInc for x in range(dfOrig.shape[0])]\n",
    "dfAdvers = obterDataset(filepath + 'advers_normalizado.csv')\n",
    "yAdvers = [classeReal for x in range(dfAdvers.shape[0])]\n",
    "dfCon = pd.concat([dfOrig, dfAdvers])\n",
    "dfConcats[idx] = dfCon\n",
    "ys[idx] = yOrig + yAdvers\n",
    "markers[idx] = ['o' for x in range(dfOrig.shape[0])] + ['+' for x in range(dfAdvers.shape[0])]"
   ]
  },
  {
   "cell_type": "code",
   "execution_count": 19,
   "metadata": {},
   "outputs": [],
   "source": [
    "tsne = TSNE(n_components=2, random_state=0)"
   ]
  },
  {
   "cell_type": "code",
   "execution_count": 20,
   "metadata": {},
   "outputs": [],
   "source": [
    "tsne_obj = tsne.fit_transform(dfCon)"
   ]
  },
  {
   "cell_type": "code",
   "execution_count": 21,
   "metadata": {},
   "outputs": [
    {
     "data": {
      "text/html": [
       "<div>\n",
       "<style scoped>\n",
       "    .dataframe tbody tr th:only-of-type {\n",
       "        vertical-align: middle;\n",
       "    }\n",
       "\n",
       "    .dataframe tbody tr th {\n",
       "        vertical-align: top;\n",
       "    }\n",
       "\n",
       "    .dataframe thead th {\n",
       "        text-align: right;\n",
       "    }\n",
       "</style>\n",
       "<table border=\"1\" class=\"dataframe\">\n",
       "  <thead>\n",
       "    <tr style=\"text-align: right;\">\n",
       "      <th></th>\n",
       "      <th>X</th>\n",
       "      <th>Y</th>\n",
       "      <th>classe</th>\n",
       "    </tr>\n",
       "  </thead>\n",
       "  <tbody>\n",
       "    <tr>\n",
       "      <th>0</th>\n",
       "      <td>18.134220</td>\n",
       "      <td>-16.665297</td>\n",
       "      <td>Normal</td>\n",
       "    </tr>\n",
       "    <tr>\n",
       "      <th>1</th>\n",
       "      <td>42.645138</td>\n",
       "      <td>-35.972748</td>\n",
       "      <td>Normal</td>\n",
       "    </tr>\n",
       "    <tr>\n",
       "      <th>2</th>\n",
       "      <td>-45.731010</td>\n",
       "      <td>30.661911</td>\n",
       "      <td>Normal</td>\n",
       "    </tr>\n",
       "    <tr>\n",
       "      <th>3</th>\n",
       "      <td>-40.115860</td>\n",
       "      <td>-2.391017</td>\n",
       "      <td>Normal</td>\n",
       "    </tr>\n",
       "    <tr>\n",
       "      <th>4</th>\n",
       "      <td>-22.094908</td>\n",
       "      <td>-30.662184</td>\n",
       "      <td>Normal</td>\n",
       "    </tr>\n",
       "  </tbody>\n",
       "</table>\n",
       "</div>"
      ],
      "text/plain": [
       "           X          Y  classe\n",
       "0  18.134220 -16.665297  Normal\n",
       "1  42.645138 -35.972748  Normal\n",
       "2 -45.731010  30.661911  Normal\n",
       "3 -40.115860  -2.391017  Normal\n",
       "4 -22.094908 -30.662184  Normal"
      ]
     },
     "execution_count": 21,
     "metadata": {},
     "output_type": "execute_result"
    }
   ],
   "source": [
    "tsnedfs[idx] = pd.DataFrame({'X':tsne_obj[:,0],\n",
    "                        'Y':tsne_obj[:,1],\n",
    "                        'classe':yOrig + yAdvers})\n",
    "tsnedfs[idx].head()"
   ]
  },
  {
   "cell_type": "code",
   "execution_count": 22,
   "metadata": {
    "scrolled": true
   },
   "outputs": [
    {
     "data": {
      "image/png": "[encoded data removed]",
      "text/plain": [
       "<Figure size 720x576 with 1 Axes>"
      ]
     },
     "metadata": {},
     "output_type": "display_data"
    }
   ],
   "source": [
    "plt.ylim(-150, 150)\n",
    "plt.xlim(-150, 150)\n",
    "\n",
    "sns.scatterplot(x=\"X\", y=\"Y\",\n",
    "              hue=\"classe\",\n",
    "              palette=['red', 'blue'],\n",
    "              legend='full',\n",
    "              data=tsnedfs[idx]);"
   ]
  },
  {
   "cell_type": "code",
   "execution_count": null,
   "metadata": {},
   "outputs": [],
   "source": []
  },
  {
   "cell_type": "markdown",
   "metadata": {},
   "source": [
    "<h1>Probe - Normal</h1>"
   ]
  },
  {
   "cell_type": "code",
   "execution_count": 23,
   "metadata": {},
   "outputs": [],
   "source": [
    "filepath = 'datasets_resultados/Probe_Normal/'\n",
    "classeInc = \"Probe\"\n",
    "classeReal = \"Adversária\"\n",
    "idx = 3"
   ]
  },
  {
   "cell_type": "code",
   "execution_count": 24,
   "metadata": {},
   "outputs": [],
   "source": [
    "dfOrig = obterDataset(filepath + 'orig_normalizado.csv')\n",
    "yOrig = [classeInc for x in range(dfOrig.shape[0])]\n",
    "dfAdvers = obterDataset(filepath + 'advers_normalizado.csv')\n",
    "yAdvers = [classeReal for x in range(dfAdvers.shape[0])]\n",
    "dfCon = pd.concat([dfOrig, dfAdvers])\n",
    "dfConcats[idx] = dfCon\n",
    "ys[idx] = yOrig + yAdvers\n",
    "markers[idx] = ['o' for x in range(dfOrig.shape[0])] + ['+' for x in range(dfAdvers.shape[0])]"
   ]
  },
  {
   "cell_type": "code",
   "execution_count": 25,
   "metadata": {},
   "outputs": [],
   "source": [
    "tsne = TSNE(n_components=2, random_state=0)"
   ]
  },
  {
   "cell_type": "code",
   "execution_count": 26,
   "metadata": {},
   "outputs": [],
   "source": [
    "tsne_obj = tsne.fit_transform(dfCon)"
   ]
  },
  {
   "cell_type": "code",
   "execution_count": 27,
   "metadata": {},
   "outputs": [
    {
     "data": {
      "text/html": [
       "<div>\n",
       "<style scoped>\n",
       "    .dataframe tbody tr th:only-of-type {\n",
       "        vertical-align: middle;\n",
       "    }\n",
       "\n",
       "    .dataframe tbody tr th {\n",
       "        vertical-align: top;\n",
       "    }\n",
       "\n",
       "    .dataframe thead th {\n",
       "        text-align: right;\n",
       "    }\n",
       "</style>\n",
       "<table border=\"1\" class=\"dataframe\">\n",
       "  <thead>\n",
       "    <tr style=\"text-align: right;\">\n",
       "      <th></th>\n",
       "      <th>X</th>\n",
       "      <th>Y</th>\n",
       "      <th>classe</th>\n",
       "    </tr>\n",
       "  </thead>\n",
       "  <tbody>\n",
       "    <tr>\n",
       "      <th>0</th>\n",
       "      <td>-11.478693</td>\n",
       "      <td>8.085284</td>\n",
       "      <td>Probe</td>\n",
       "    </tr>\n",
       "    <tr>\n",
       "      <th>1</th>\n",
       "      <td>16.275421</td>\n",
       "      <td>-8.885631</td>\n",
       "      <td>Probe</td>\n",
       "    </tr>\n",
       "    <tr>\n",
       "      <th>2</th>\n",
       "      <td>-1.889394</td>\n",
       "      <td>12.635721</td>\n",
       "      <td>Probe</td>\n",
       "    </tr>\n",
       "    <tr>\n",
       "      <th>3</th>\n",
       "      <td>12.918075</td>\n",
       "      <td>-6.145579</td>\n",
       "      <td>Probe</td>\n",
       "    </tr>\n",
       "    <tr>\n",
       "      <th>4</th>\n",
       "      <td>-4.387891</td>\n",
       "      <td>-1.036704</td>\n",
       "      <td>Probe</td>\n",
       "    </tr>\n",
       "  </tbody>\n",
       "</table>\n",
       "</div>"
      ],
      "text/plain": [
       "           X          Y classe\n",
       "0 -11.478693   8.085284  Probe\n",
       "1  16.275421  -8.885631  Probe\n",
       "2  -1.889394  12.635721  Probe\n",
       "3  12.918075  -6.145579  Probe\n",
       "4  -4.387891  -1.036704  Probe"
      ]
     },
     "execution_count": 27,
     "metadata": {},
     "output_type": "execute_result"
    }
   ],
   "source": [
    "tsnedfs[idx] = pd.DataFrame({'X':tsne_obj[:,0],\n",
    "                        'Y':tsne_obj[:,1],\n",
    "                        'classe':yOrig + yAdvers})\n",
    "tsnedfs[idx].head()"
   ]
  },
  {
   "cell_type": "code",
   "execution_count": 28,
   "metadata": {
    "scrolled": false
   },
   "outputs": [
    {
     "data": {
      "image/png": "[encoded data removed]",
      "text/plain": [
       "<Figure size 720x576 with 1 Axes>"
      ]
     },
     "metadata": {},
     "output_type": "display_data"
    }
   ],
   "source": [
    "plt.ylim(-150, 150)\n",
    "plt.xlim(-150, 150)\n",
    "\n",
    "sns.scatterplot(x=\"X\", y=\"Y\",\n",
    "              hue=\"classe\",\n",
    "              palette=['red', 'blue'],\n",
    "              legend='full',\n",
    "              data=tsnedfs[idx]);"
   ]
  },
  {
   "cell_type": "code",
   "execution_count": null,
   "metadata": {},
   "outputs": [],
   "source": []
  },
  {
   "cell_type": "markdown",
   "metadata": {},
   "source": [
    "<h1>Normal - R2L</h1>"
   ]
  },
  {
   "cell_type": "code",
   "execution_count": 29,
   "metadata": {},
   "outputs": [],
   "source": [
    "filepath = 'datasets_resultados/Normal_R2L/'\n",
    "classeInc = \"Normal\"\n",
    "classeReal = \"Adversária\"\n",
    "idx = 4"
   ]
  },
  {
   "cell_type": "code",
   "execution_count": 30,
   "metadata": {},
   "outputs": [],
   "source": [
    "dfOrig = obterDataset(filepath + 'orig_normalizado.csv')\n",
    "yOrig = [classeInc for x in range(dfOrig.shape[0])]\n",
    "dfAdvers = obterDataset(filepath + 'advers_normalizado.csv')\n",
    "yAdvers = [classeReal for x in range(dfAdvers.shape[0])]\n",
    "dfCon = pd.concat([dfOrig, dfAdvers])\n",
    "dfConcats[idx] = dfCon\n",
    "ys[idx] = yOrig + yAdvers\n",
    "markers[idx] = ['o' for x in range(dfOrig.shape[0])] + ['+' for x in range(dfAdvers.shape[0])]"
   ]
  },
  {
   "cell_type": "code",
   "execution_count": 31,
   "metadata": {},
   "outputs": [],
   "source": [
    "tsne = TSNE(n_components=2, random_state=0)"
   ]
  },
  {
   "cell_type": "code",
   "execution_count": 32,
   "metadata": {},
   "outputs": [],
   "source": [
    "tsne_obj = tsne.fit_transform(dfCon)"
   ]
  },
  {
   "cell_type": "code",
   "execution_count": 33,
   "metadata": {},
   "outputs": [
    {
     "data": {
      "text/html": [
       "<div>\n",
       "<style scoped>\n",
       "    .dataframe tbody tr th:only-of-type {\n",
       "        vertical-align: middle;\n",
       "    }\n",
       "\n",
       "    .dataframe tbody tr th {\n",
       "        vertical-align: top;\n",
       "    }\n",
       "\n",
       "    .dataframe thead th {\n",
       "        text-align: right;\n",
       "    }\n",
       "</style>\n",
       "<table border=\"1\" class=\"dataframe\">\n",
       "  <thead>\n",
       "    <tr style=\"text-align: right;\">\n",
       "      <th></th>\n",
       "      <th>X</th>\n",
       "      <th>Y</th>\n",
       "      <th>classe</th>\n",
       "    </tr>\n",
       "  </thead>\n",
       "  <tbody>\n",
       "    <tr>\n",
       "      <th>0</th>\n",
       "      <td>11.610271</td>\n",
       "      <td>7.726671</td>\n",
       "      <td>Normal</td>\n",
       "    </tr>\n",
       "    <tr>\n",
       "      <th>1</th>\n",
       "      <td>-15.596967</td>\n",
       "      <td>-0.353271</td>\n",
       "      <td>Normal</td>\n",
       "    </tr>\n",
       "    <tr>\n",
       "      <th>2</th>\n",
       "      <td>8.474752</td>\n",
       "      <td>6.288653</td>\n",
       "      <td>Normal</td>\n",
       "    </tr>\n",
       "    <tr>\n",
       "      <th>3</th>\n",
       "      <td>-8.495391</td>\n",
       "      <td>-6.861076</td>\n",
       "      <td>Normal</td>\n",
       "    </tr>\n",
       "    <tr>\n",
       "      <th>4</th>\n",
       "      <td>-6.328761</td>\n",
       "      <td>-4.095741</td>\n",
       "      <td>Normal</td>\n",
       "    </tr>\n",
       "  </tbody>\n",
       "</table>\n",
       "</div>"
      ],
      "text/plain": [
       "           X         Y  classe\n",
       "0  11.610271  7.726671  Normal\n",
       "1 -15.596967 -0.353271  Normal\n",
       "2   8.474752  6.288653  Normal\n",
       "3  -8.495391 -6.861076  Normal\n",
       "4  -6.328761 -4.095741  Normal"
      ]
     },
     "execution_count": 33,
     "metadata": {},
     "output_type": "execute_result"
    }
   ],
   "source": [
    "tsnedfs[idx] = pd.DataFrame({'X':tsne_obj[:,0],\n",
    "                        'Y':tsne_obj[:,1],\n",
    "                        'classe':yOrig + yAdvers})\n",
    "tsnedfs[idx].head()"
   ]
  },
  {
   "cell_type": "code",
   "execution_count": 34,
   "metadata": {
    "scrolled": true
   },
   "outputs": [
    {
     "data": {
      "image/png": "[encoded data removed]",
      "text/plain": [
       "<Figure size 720x576 with 1 Axes>"
      ]
     },
     "metadata": {},
     "output_type": "display_data"
    }
   ],
   "source": [
    "plt.ylim(-150, 150)\n",
    "plt.xlim(-150, 150)\n",
    "\n",
    "sns.scatterplot(x=\"X\", y=\"Y\",\n",
    "              hue=\"classe\",\n",
    "              palette=['red', 'blue'],\n",
    "              legend='full',\n",
    "              data=tsnedfs[idx]);"
   ]
  },
  {
   "cell_type": "code",
   "execution_count": null,
   "metadata": {},
   "outputs": [],
   "source": []
  },
  {
   "cell_type": "markdown",
   "metadata": {},
   "source": [
    "<h1>R2L - Normal</h1>"
   ]
  },
  {
   "cell_type": "code",
   "execution_count": 35,
   "metadata": {},
   "outputs": [],
   "source": [
    "filepath = 'datasets_resultados/R2L_Normal/'\n",
    "classeInc = \"R2L\"\n",
    "classeReal = \"Adversária\"\n",
    "idx = 5"
   ]
  },
  {
   "cell_type": "code",
   "execution_count": 36,
   "metadata": {},
   "outputs": [],
   "source": [
    "dfOrig = obterDataset(filepath + 'orig_normalizado.csv')\n",
    "yOrig = [classeInc for x in range(dfOrig.shape[0])]\n",
    "dfAdvers = obterDataset(filepath + 'advers_normalizado.csv')\n",
    "yAdvers = [classeReal for x in range(dfAdvers.shape[0])]\n",
    "dfCon = pd.concat([dfOrig, dfAdvers])\n",
    "dfConcats[idx] = dfCon\n",
    "ys[idx] = yOrig + yAdvers\n",
    "markers[idx] = ['o' for x in range(dfOrig.shape[0])] + ['+' for x in range(dfAdvers.shape[0])]"
   ]
  },
  {
   "cell_type": "code",
   "execution_count": 37,
   "metadata": {},
   "outputs": [],
   "source": [
    "tsne = TSNE(n_components=2, random_state=0)"
   ]
  },
  {
   "cell_type": "code",
   "execution_count": 38,
   "metadata": {},
   "outputs": [],
   "source": [
    "tsne_obj = tsne.fit_transform(dfCon)"
   ]
  },
  {
   "cell_type": "code",
   "execution_count": 39,
   "metadata": {},
   "outputs": [
    {
     "data": {
      "text/html": [
       "<div>\n",
       "<style scoped>\n",
       "    .dataframe tbody tr th:only-of-type {\n",
       "        vertical-align: middle;\n",
       "    }\n",
       "\n",
       "    .dataframe tbody tr th {\n",
       "        vertical-align: top;\n",
       "    }\n",
       "\n",
       "    .dataframe thead th {\n",
       "        text-align: right;\n",
       "    }\n",
       "</style>\n",
       "<table border=\"1\" class=\"dataframe\">\n",
       "  <thead>\n",
       "    <tr style=\"text-align: right;\">\n",
       "      <th></th>\n",
       "      <th>X</th>\n",
       "      <th>Y</th>\n",
       "      <th>classe</th>\n",
       "    </tr>\n",
       "  </thead>\n",
       "  <tbody>\n",
       "    <tr>\n",
       "      <th>0</th>\n",
       "      <td>9.192525</td>\n",
       "      <td>-17.359911</td>\n",
       "      <td>R2L</td>\n",
       "    </tr>\n",
       "    <tr>\n",
       "      <th>1</th>\n",
       "      <td>5.334964</td>\n",
       "      <td>7.195266</td>\n",
       "      <td>R2L</td>\n",
       "    </tr>\n",
       "    <tr>\n",
       "      <th>2</th>\n",
       "      <td>6.905257</td>\n",
       "      <td>8.674354</td>\n",
       "      <td>R2L</td>\n",
       "    </tr>\n",
       "    <tr>\n",
       "      <th>3</th>\n",
       "      <td>-8.288815</td>\n",
       "      <td>10.723887</td>\n",
       "      <td>R2L</td>\n",
       "    </tr>\n",
       "    <tr>\n",
       "      <th>4</th>\n",
       "      <td>-1.292298</td>\n",
       "      <td>13.612352</td>\n",
       "      <td>R2L</td>\n",
       "    </tr>\n",
       "  </tbody>\n",
       "</table>\n",
       "</div>"
      ],
      "text/plain": [
       "          X          Y classe\n",
       "0  9.192525 -17.359911    R2L\n",
       "1  5.334964   7.195266    R2L\n",
       "2  6.905257   8.674354    R2L\n",
       "3 -8.288815  10.723887    R2L\n",
       "4 -1.292298  13.612352    R2L"
      ]
     },
     "execution_count": 39,
     "metadata": {},
     "output_type": "execute_result"
    }
   ],
   "source": [
    "tsnedfs[idx] = pd.DataFrame({'X':tsne_obj[:,0],\n",
    "                        'Y':tsne_obj[:,1],\n",
    "                        'classe':yOrig + yAdvers})\n",
    "tsnedfs[idx].head()"
   ]
  },
  {
   "cell_type": "code",
   "execution_count": 40,
   "metadata": {
    "scrolled": false
   },
   "outputs": [
    {
     "data": {
      "image/png": "[encoded data removed]",
      "text/plain": [
       "<Figure size 720x576 with 1 Axes>"
      ]
     },
     "metadata": {},
     "output_type": "display_data"
    }
   ],
   "source": [
    "plt.ylim(-150, 150)\n",
    "plt.xlim(-150, 150)\n",
    "\n",
    "sns.scatterplot(x=\"X\", y=\"Y\",\n",
    "              hue=\"classe\",\n",
    "              palette=['red', 'blue'],\n",
    "              legend='full',\n",
    "              data=tsnedfs[idx]);"
   ]
  },
  {
   "cell_type": "code",
   "execution_count": null,
   "metadata": {},
   "outputs": [],
   "source": []
  },
  {
   "cell_type": "markdown",
   "metadata": {},
   "source": [
    "<h1>U2R - Normal</h1>"
   ]
  },
  {
   "cell_type": "code",
   "execution_count": 41,
   "metadata": {},
   "outputs": [],
   "source": [
    "filepath = 'datasets_resultados/U2R_Normal/'\n",
    "classeInc = \"U2R\"\n",
    "classeReal = \"Adversária\"\n",
    "idx = 6"
   ]
  },
  {
   "cell_type": "code",
   "execution_count": 42,
   "metadata": {},
   "outputs": [],
   "source": [
    "dfOrig = obterDataset(filepath + 'orig_normalizado.csv')\n",
    "yOrig = [classeInc for x in range(dfOrig.shape[0])]\n",
    "dfAdvers = obterDataset(filepath + 'advers_normalizado.csv')\n",
    "yAdvers = [classeReal for x in range(dfAdvers.shape[0])]\n",
    "dfCon = pd.concat([dfOrig, dfAdvers])\n",
    "dfConcats[idx] = dfCon\n",
    "ys[idx] = yOrig + yAdvers\n",
    "markers[idx] = ['o' for x in range(dfOrig.shape[0])] + ['+' for x in range(dfAdvers.shape[0])]"
   ]
  },
  {
   "cell_type": "code",
   "execution_count": 43,
   "metadata": {},
   "outputs": [],
   "source": [
    "tsne = TSNE(n_components=2, random_state=0)"
   ]
  },
  {
   "cell_type": "code",
   "execution_count": 44,
   "metadata": {},
   "outputs": [],
   "source": [
    "tsne_obj = tsne.fit_transform(dfCon)"
   ]
  },
  {
   "cell_type": "code",
   "execution_count": 45,
   "metadata": {},
   "outputs": [
    {
     "data": {
      "text/html": [
       "<div>\n",
       "<style scoped>\n",
       "    .dataframe tbody tr th:only-of-type {\n",
       "        vertical-align: middle;\n",
       "    }\n",
       "\n",
       "    .dataframe tbody tr th {\n",
       "        vertical-align: top;\n",
       "    }\n",
       "\n",
       "    .dataframe thead th {\n",
       "        text-align: right;\n",
       "    }\n",
       "</style>\n",
       "<table border=\"1\" class=\"dataframe\">\n",
       "  <thead>\n",
       "    <tr style=\"text-align: right;\">\n",
       "      <th></th>\n",
       "      <th>X</th>\n",
       "      <th>Y</th>\n",
       "      <th>classe</th>\n",
       "    </tr>\n",
       "  </thead>\n",
       "  <tbody>\n",
       "    <tr>\n",
       "      <th>0</th>\n",
       "      <td>-49.225033</td>\n",
       "      <td>37.224827</td>\n",
       "      <td>U2R</td>\n",
       "    </tr>\n",
       "    <tr>\n",
       "      <th>1</th>\n",
       "      <td>53.393345</td>\n",
       "      <td>58.678799</td>\n",
       "      <td>U2R</td>\n",
       "    </tr>\n",
       "    <tr>\n",
       "      <th>2</th>\n",
       "      <td>99.123421</td>\n",
       "      <td>-25.868261</td>\n",
       "      <td>U2R</td>\n",
       "    </tr>\n",
       "    <tr>\n",
       "      <th>3</th>\n",
       "      <td>0.755315</td>\n",
       "      <td>-71.749016</td>\n",
       "      <td>U2R</td>\n",
       "    </tr>\n",
       "    <tr>\n",
       "      <th>4</th>\n",
       "      <td>1.035041</td>\n",
       "      <td>23.013344</td>\n",
       "      <td>U2R</td>\n",
       "    </tr>\n",
       "  </tbody>\n",
       "</table>\n",
       "</div>"
      ],
      "text/plain": [
       "           X          Y classe\n",
       "0 -49.225033  37.224827    U2R\n",
       "1  53.393345  58.678799    U2R\n",
       "2  99.123421 -25.868261    U2R\n",
       "3   0.755315 -71.749016    U2R\n",
       "4   1.035041  23.013344    U2R"
      ]
     },
     "execution_count": 45,
     "metadata": {},
     "output_type": "execute_result"
    }
   ],
   "source": [
    "tsnedfs[idx] = pd.DataFrame({'X':tsne_obj[:,0],\n",
    "                        'Y':tsne_obj[:,1],\n",
    "                        'classe':yOrig + yAdvers})\n",
    "tsnedfs[idx].head()"
   ]
  },
  {
   "cell_type": "code",
   "execution_count": 46,
   "metadata": {
    "scrolled": false
   },
   "outputs": [
    {
     "data": {
      "image/png": "[encoded data removed]",
      "text/plain": [
       "<Figure size 720x576 with 1 Axes>"
      ]
     },
     "metadata": {},
     "output_type": "display_data"
    }
   ],
   "source": [
    "plt.ylim(-150, 150)\n",
    "plt.xlim(-150, 150)\n",
    "\n",
    "sns.scatterplot(x=\"X\", y=\"Y\",\n",
    "              hue=\"classe\",\n",
    "              palette=['red', 'blue'],\n",
    "              legend='full',\n",
    "              data=tsnedfs[idx]);"
   ]
  },
  {
   "cell_type": "markdown",
   "metadata": {},
   "source": [
    "<h1>Tudo junto</h1>"
   ]
  },
  {
   "cell_type": "code",
   "execution_count": 47,
   "metadata": {},
   "outputs": [],
   "source": [
    "tsne = TSNE(n_components=2, random_state=0)\n",
    "tsne_objAll = tsne.fit_transform(pd.concat(dfConcats))"
   ]
  },
  {
   "cell_type": "code",
   "execution_count": 48,
   "metadata": {},
   "outputs": [],
   "source": [
    "tsnedf_all = pd.DataFrame({'X':tsne_objAll[:,0],\n",
    "                        'Y':tsne_objAll[:,1],\n",
    "                        'classe':ys[0] + ys[1] + ys[2] + ys[3] + ys[4] + ys[5] + ys[6] })\n",
    "tsnedf_all = tsnedf_all.sort_values(by=['classe'], ascending=False)"
   ]
  },
  {
   "cell_type": "code",
   "execution_count": 49,
   "metadata": {},
   "outputs": [
    {
     "data": {
      "image/png": "[encoded data removed]",
      "text/plain": [
       "<Figure size 720x576 with 1 Axes>"
      ]
     },
     "metadata": {},
     "output_type": "display_data"
    }
   ],
   "source": [
    "plt.ylim(-150, 150)\n",
    "plt.xlim(-150, 150)\n",
    "\n",
    "sns.scatterplot(x=\"X\", y=\"Y\",\n",
    "              hue=\"classe\",\n",
    "              palette=['magenta', 'blue', 'purple', 'green', 'orange', 'red'],\n",
    "              legend='full',\n",
    "              data=tsnedf_all);"
   ]
  },
  {
   "cell_type": "code",
   "execution_count": 50,
   "metadata": {},
   "outputs": [
    {
     "data": {
      "image/png": "[encoded data removed]",
      "text/plain": [
       "<Figure size 720x576 with 1 Axes>"
      ]
     },
     "metadata": {},
     "output_type": "display_data"
    }
   ],
   "source": [
    "plt.ylim(-150, 150)\n",
    "plt.xlim(-150, 150)\n",
    "\n",
    "sns.scatterplot(x=\"X\", y=\"Y\",\n",
    "              hue=\"classe\",\n",
    "              palette=['magenta', 'blue', 'purple', 'green', 'orange'],\n",
    "              legend='full',\n",
    "              data=tsnedf_all.loc[tsnedf_all['classe'] != \"Adversária\"]);"
   ]
  },
  {
   "cell_type": "code",
   "execution_count": null,
   "metadata": {},
   "outputs": [],
   "source": []
  },
  {
   "cell_type": "code",
   "execution_count": null,
   "metadata": {},
   "outputs": [],
   "source": []
  },
  {
   "cell_type": "code",
   "execution_count": null,
   "metadata": {},
   "outputs": [],
   "source": []
  },
  {
   "cell_type": "code",
   "execution_count": null,
   "metadata": {},
   "outputs": [],
   "source": []
  },
  {
   "cell_type": "code",
   "execution_count": null,
   "metadata": {},
   "outputs": [],
   "source": []
  },
  {
   "cell_type": "code",
   "execution_count": null,
   "metadata": {},
   "outputs": [],
   "source": []
  },
  {
   "cell_type": "code",
   "execution_count": null,
   "metadata": {},
   "outputs": [],
   "source": []
  },
  {
   "cell_type": "code",
   "execution_count": null,
   "metadata": {},
   "outputs": [],
   "source": []
  }
 ],
 "metadata": {
  "kernelspec": {
   "display_name": "Python 3",
   "language": "python",
   "name": "python3"
  },
  "language_info": {
   "codemirror_mode": {
    "name": "ipython",
    "version": 3
   },
   "file_extension": ".py",
   "mimetype": "text/x-python",
   "name": "python",
   "nbconvert_exporter": "python",
   "pygments_lexer": "ipython3",
   "version": "3.8.6"
  }
 },
 "nbformat": 4,
 "nbformat_minor": 4
}
