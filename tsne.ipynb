{
 "cells": [
  {
   "cell_type": "code",
   "execution_count": 57,
   "metadata": {},
   "outputs": [],
   "source": [
    "import matplotlib.pyplot as plt\n",
    "import seaborn as sns\n",
    "%matplotlib inline\n",
    "import pandas as pd\n",
    "import _pickle as cPickle\n",
    "import numpy as np\n",
    "from sklearn.preprocessing import Normalizer\n",
    "from sklearn.manifold import TSNE\n",
    "\n",
    "sns.set(rc={'figure.figsize':(10, 8)})\n",
    "\n",
    "escala = 150"
   ]
  },
  {
   "cell_type": "code",
   "execution_count": 2,
   "metadata": {},
   "outputs": [],
   "source": [
    "def obterDataset(filename):\n",
    "    df = pd.read_csv(filename)\n",
    "    return df"
   ]
  },
  {
   "cell_type": "code",
   "execution_count": 3,
   "metadata": {},
   "outputs": [],
   "source": [
    "def obterScaler(filename):\n",
    "    with open(filename, 'rb') as fid:\n",
    "        scaler = cPickle.load(fid) \n",
    "    return scaler"
   ]
  },
  {
   "cell_type": "code",
   "execution_count": 4,
   "metadata": {},
   "outputs": [],
   "source": [
    "tsnedfs = [None for x in range(7)] #desnecessário, mas não tive tempo de alterar\n",
    "ys = [None for x in range(7)]\n",
    "dfConcats = [None for x in range(7)]\n",
    "markers = [None for x in range(7)]"
   ]
  },
  {
   "cell_type": "markdown",
   "metadata": {},
   "source": [
    "<h1>Normal - DoS</h1>"
   ]
  },
  {
   "cell_type": "code",
   "execution_count": 5,
   "metadata": {},
   "outputs": [],
   "source": [
    "filepath = 'datasets_resultados/Normal_DoS/'\n",
    "classeInc = \"Normal\"\n",
    "classeReal = \"Adversária\"\n",
    "idx = 0"
   ]
  },
  {
   "cell_type": "code",
   "execution_count": 6,
   "metadata": {},
   "outputs": [],
   "source": [
    "dfOrig = obterDataset(filepath + 'orig_normalizado.csv')\n",
    "yOrig = [classeInc for x in range(dfOrig.shape[0])]\n",
    "dfAdvers = obterDataset(filepath + 'advers_normalizado.csv')\n",
    "yAdvers = [classeReal for x in range(dfAdvers.shape[0])]\n",
    "dfCon = pd.concat([dfOrig, dfAdvers])\n",
    "dfConcats[idx] = dfCon\n",
    "ys[idx] = yOrig + yAdvers\n",
    "markers[idx] = ['o' for x in range(dfOrig.shape[0])] + ['+' for x in range(dfAdvers.shape[0])]"
   ]
  },
  {
   "cell_type": "code",
   "execution_count": 7,
   "metadata": {},
   "outputs": [],
   "source": [
    "tsne = TSNE(n_components=2, random_state=0)"
   ]
  },
  {
   "cell_type": "code",
   "execution_count": 8,
   "metadata": {},
   "outputs": [],
   "source": [
    "tsne_obj = tsne.fit_transform(dfCon)"
   ]
  },
  {
   "cell_type": "code",
   "execution_count": 9,
   "metadata": {},
   "outputs": [
    {
     "data": {
      "text/html": [
       "<div>\n",
       "<style scoped>\n",
       "    .dataframe tbody tr th:only-of-type {\n",
       "        vertical-align: middle;\n",
       "    }\n",
       "\n",
       "    .dataframe tbody tr th {\n",
       "        vertical-align: top;\n",
       "    }\n",
       "\n",
       "    .dataframe thead th {\n",
       "        text-align: right;\n",
       "    }\n",
       "</style>\n",
       "<table border=\"1\" class=\"dataframe\">\n",
       "  <thead>\n",
       "    <tr style=\"text-align: right;\">\n",
       "      <th></th>\n",
       "      <th>X</th>\n",
       "      <th>Y</th>\n",
       "      <th>classe</th>\n",
       "    </tr>\n",
       "  </thead>\n",
       "  <tbody>\n",
       "    <tr>\n",
       "      <th>0</th>\n",
       "      <td>12.476386</td>\n",
       "      <td>21.314489</td>\n",
       "      <td>Normal</td>\n",
       "    </tr>\n",
       "    <tr>\n",
       "      <th>1</th>\n",
       "      <td>-52.778774</td>\n",
       "      <td>53.617561</td>\n",
       "      <td>Normal</td>\n",
       "    </tr>\n",
       "    <tr>\n",
       "      <th>2</th>\n",
       "      <td>18.721022</td>\n",
       "      <td>56.589184</td>\n",
       "      <td>Normal</td>\n",
       "    </tr>\n",
       "    <tr>\n",
       "      <th>3</th>\n",
       "      <td>46.141033</td>\n",
       "      <td>27.913752</td>\n",
       "      <td>Normal</td>\n",
       "    </tr>\n",
       "    <tr>\n",
       "      <th>4</th>\n",
       "      <td>22.451477</td>\n",
       "      <td>-7.324051</td>\n",
       "      <td>Normal</td>\n",
       "    </tr>\n",
       "  </tbody>\n",
       "</table>\n",
       "</div>"
      ],
      "text/plain": [
       "           X          Y  classe\n",
       "0  12.476386  21.314489  Normal\n",
       "1 -52.778774  53.617561  Normal\n",
       "2  18.721022  56.589184  Normal\n",
       "3  46.141033  27.913752  Normal\n",
       "4  22.451477  -7.324051  Normal"
      ]
     },
     "execution_count": 9,
     "metadata": {},
     "output_type": "execute_result"
    }
   ],
   "source": [
    "tsnedfs[idx] = pd.DataFrame({'X':tsne_obj[:,0],\n",
    "                        'Y':tsne_obj[:,1],\n",
    "                        'classe':yOrig + yAdvers})\n",
    "tsnedfs[idx].head()"
   ]
  },
  {
   "cell_type": "code",
   "execution_count": 10,
   "metadata": {
    "scrolled": true
   },
   "outputs": [
    {
     "data": {
      "image/png": "[encoded data removed]",
      "text/plain": [
       "<Figure size 720x576 with 1 Axes>"
      ]
     },
     "metadata": {},
     "output_type": "display_data"
    }
   ],
   "source": [
    "plt.ylim(-escala, escala)\n",
    "plt.xlim(-escala, escala)\n",
    "\n",
    "sns.scatterplot(x=\"X\", y=\"Y\",\n",
    "              hue=\"classe\",\n",
    "              palette=['red', 'blue'],\n",
    "              legend='full',\n",
    "              data=tsnedfs[idx]);"
   ]
  },
  {
   "cell_type": "code",
   "execution_count": null,
   "metadata": {},
   "outputs": [],
   "source": []
  },
  {
   "cell_type": "markdown",
   "metadata": {},
   "source": [
    "<h1>DoS - Normal</h1>"
   ]
  },
  {
   "cell_type": "code",
   "execution_count": 11,
   "metadata": {},
   "outputs": [],
   "source": [
    "filepath = 'datasets_resultados/DoS_Normal/'\n",
    "classeInc = \"DoS\"\n",
    "classeReal = \"Adversária\"\n",
    "idx = 1"
   ]
  },
  {
   "cell_type": "code",
   "execution_count": 12,
   "metadata": {},
   "outputs": [],
   "source": [
    "dfOrig = obterDataset(filepath + 'orig_normalizado.csv')\n",
    "yOrig = [classeInc for x in range(dfOrig.shape[0])]\n",
    "dfAdvers = obterDataset(filepath + 'advers_normalizado.csv')\n",
    "yAdvers = [classeReal for x in range(dfAdvers.shape[0])]\n",
    "dfCon = pd.concat([dfOrig, dfAdvers])\n",
    "dfConcats[idx] = dfCon\n",
    "ys[idx] = yOrig + yAdvers\n",
    "markers[idx] = ['o' for x in range(dfOrig.shape[0])] + ['+' for x in range(dfAdvers.shape[0])]"
   ]
  },
  {
   "cell_type": "code",
   "execution_count": 13,
   "metadata": {},
   "outputs": [],
   "source": [
    "tsne = TSNE(n_components=2, random_state=0)"
   ]
  },
  {
   "cell_type": "code",
   "execution_count": 14,
   "metadata": {},
   "outputs": [],
   "source": [
    "tsne_obj = tsne.fit_transform(dfCon)"
   ]
  },
  {
   "cell_type": "code",
   "execution_count": 15,
   "metadata": {},
   "outputs": [
    {
     "data": {
      "text/html": [
       "<div>\n",
       "<style scoped>\n",
       "    .dataframe tbody tr th:only-of-type {\n",
       "        vertical-align: middle;\n",
       "    }\n",
       "\n",
       "    .dataframe tbody tr th {\n",
       "        vertical-align: top;\n",
       "    }\n",
       "\n",
       "    .dataframe thead th {\n",
       "        text-align: right;\n",
       "    }\n",
       "</style>\n",
       "<table border=\"1\" class=\"dataframe\">\n",
       "  <thead>\n",
       "    <tr style=\"text-align: right;\">\n",
       "      <th></th>\n",
       "      <th>X</th>\n",
       "      <th>Y</th>\n",
       "      <th>classe</th>\n",
       "    </tr>\n",
       "  </thead>\n",
       "  <tbody>\n",
       "    <tr>\n",
       "      <th>0</th>\n",
       "      <td>-6.112110</td>\n",
       "      <td>-11.891069</td>\n",
       "      <td>DoS</td>\n",
       "    </tr>\n",
       "    <tr>\n",
       "      <th>1</th>\n",
       "      <td>14.392634</td>\n",
       "      <td>16.709146</td>\n",
       "      <td>DoS</td>\n",
       "    </tr>\n",
       "    <tr>\n",
       "      <th>2</th>\n",
       "      <td>14.156720</td>\n",
       "      <td>0.590249</td>\n",
       "      <td>DoS</td>\n",
       "    </tr>\n",
       "    <tr>\n",
       "      <th>3</th>\n",
       "      <td>22.122849</td>\n",
       "      <td>0.956983</td>\n",
       "      <td>DoS</td>\n",
       "    </tr>\n",
       "    <tr>\n",
       "      <th>4</th>\n",
       "      <td>7.584821</td>\n",
       "      <td>6.605597</td>\n",
       "      <td>DoS</td>\n",
       "    </tr>\n",
       "  </tbody>\n",
       "</table>\n",
       "</div>"
      ],
      "text/plain": [
       "           X          Y classe\n",
       "0  -6.112110 -11.891069    DoS\n",
       "1  14.392634  16.709146    DoS\n",
       "2  14.156720   0.590249    DoS\n",
       "3  22.122849   0.956983    DoS\n",
       "4   7.584821   6.605597    DoS"
      ]
     },
     "execution_count": 15,
     "metadata": {},
     "output_type": "execute_result"
    }
   ],
   "source": [
    "tsnedfs[idx] = pd.DataFrame({'X':tsne_obj[:,0],\n",
    "                        'Y':tsne_obj[:,1],\n",
    "                        'classe':yOrig + yAdvers})\n",
    "tsnedfs[idx].head()"
   ]
  },
  {
   "cell_type": "code",
   "execution_count": 16,
   "metadata": {
    "scrolled": false
   },
   "outputs": [
    {
     "data": {
      "image/png": "[encoded data removed]",
      "text/plain": [
       "<Figure size 720x576 with 1 Axes>"
      ]
     },
     "metadata": {},
     "output_type": "display_data"
    }
   ],
   "source": [
    "plt.ylim(-escala, escala)\n",
    "plt.xlim(-escala, escala)\n",
    "\n",
    "sns.scatterplot(x=\"X\", y=\"Y\",\n",
    "              hue=\"classe\",\n",
    "              palette=['red', 'blue'],\n",
    "              legend='full',\n",
    "              data=tsnedfs[idx]);"
   ]
  },
  {
   "cell_type": "code",
   "execution_count": null,
   "metadata": {},
   "outputs": [],
   "source": []
  },
  {
   "cell_type": "markdown",
   "metadata": {},
   "source": [
    "<h1>Normal - Probe</h1>"
   ]
  },
  {
   "cell_type": "code",
   "execution_count": 17,
   "metadata": {},
   "outputs": [],
   "source": [
    "filepath = 'datasets_resultados/Normal_Probe/'\n",
    "classeInc = \"Normal\"\n",
    "classeReal = \"Adversária\"\n",
    "idx = 2"
   ]
  },
  {
   "cell_type": "code",
   "execution_count": 18,
   "metadata": {},
   "outputs": [],
   "source": [
    "dfOrig = obterDataset(filepath + 'orig_normalizado.csv')\n",
    "yOrig = [classeInc for x in range(dfOrig.shape[0])]\n",
    "dfAdvers = obterDataset(filepath + 'advers_normalizado.csv')\n",
    "yAdvers = [classeReal for x in range(dfAdvers.shape[0])]\n",
    "dfCon = pd.concat([dfOrig, dfAdvers])\n",
    "dfConcats[idx] = dfCon\n",
    "ys[idx] = yOrig + yAdvers\n",
    "markers[idx] = ['o' for x in range(dfOrig.shape[0])] + ['+' for x in range(dfAdvers.shape[0])]"
   ]
  },
  {
   "cell_type": "code",
   "execution_count": 19,
   "metadata": {},
   "outputs": [],
   "source": [
    "tsne = TSNE(n_components=2, random_state=0)"
   ]
  },
  {
   "cell_type": "code",
   "execution_count": 20,
   "metadata": {},
   "outputs": [],
   "source": [
    "tsne_obj = tsne.fit_transform(dfCon)"
   ]
  },
  {
   "cell_type": "code",
   "execution_count": 21,
   "metadata": {},
   "outputs": [
    {
     "data": {
      "text/html": [
       "<div>\n",
       "<style scoped>\n",
       "    .dataframe tbody tr th:only-of-type {\n",
       "        vertical-align: middle;\n",
       "    }\n",
       "\n",
       "    .dataframe tbody tr th {\n",
       "        vertical-align: top;\n",
       "    }\n",
       "\n",
       "    .dataframe thead th {\n",
       "        text-align: right;\n",
       "    }\n",
       "</style>\n",
       "<table border=\"1\" class=\"dataframe\">\n",
       "  <thead>\n",
       "    <tr style=\"text-align: right;\">\n",
       "      <th></th>\n",
       "      <th>X</th>\n",
       "      <th>Y</th>\n",
       "      <th>classe</th>\n",
       "    </tr>\n",
       "  </thead>\n",
       "  <tbody>\n",
       "    <tr>\n",
       "      <th>0</th>\n",
       "      <td>5.437705</td>\n",
       "      <td>50.770638</td>\n",
       "      <td>Normal</td>\n",
       "    </tr>\n",
       "    <tr>\n",
       "      <th>1</th>\n",
       "      <td>-25.316294</td>\n",
       "      <td>72.844887</td>\n",
       "      <td>Normal</td>\n",
       "    </tr>\n",
       "    <tr>\n",
       "      <th>2</th>\n",
       "      <td>25.489584</td>\n",
       "      <td>-138.953140</td>\n",
       "      <td>Normal</td>\n",
       "    </tr>\n",
       "    <tr>\n",
       "      <th>3</th>\n",
       "      <td>74.753975</td>\n",
       "      <td>-107.202187</td>\n",
       "      <td>Normal</td>\n",
       "    </tr>\n",
       "    <tr>\n",
       "      <th>4</th>\n",
       "      <td>39.147820</td>\n",
       "      <td>-24.406565</td>\n",
       "      <td>Normal</td>\n",
       "    </tr>\n",
       "  </tbody>\n",
       "</table>\n",
       "</div>"
      ],
      "text/plain": [
       "           X           Y  classe\n",
       "0   5.437705   50.770638  Normal\n",
       "1 -25.316294   72.844887  Normal\n",
       "2  25.489584 -138.953140  Normal\n",
       "3  74.753975 -107.202187  Normal\n",
       "4  39.147820  -24.406565  Normal"
      ]
     },
     "execution_count": 21,
     "metadata": {},
     "output_type": "execute_result"
    }
   ],
   "source": [
    "tsnedfs[idx] = pd.DataFrame({'X':tsne_obj[:,0],\n",
    "                        'Y':tsne_obj[:,1],\n",
    "                        'classe':yOrig + yAdvers})\n",
    "tsnedfs[idx].head()"
   ]
  },
  {
   "cell_type": "code",
   "execution_count": 22,
   "metadata": {
    "scrolled": true
   },
   "outputs": [
    {
     "data": {
      "image/png": "[encoded data removed]",
      "text/plain": [
       "<Figure size 720x576 with 1 Axes>"
      ]
     },
     "metadata": {},
     "output_type": "display_data"
    }
   ],
   "source": [
    "plt.ylim(-escala, escala)\n",
    "plt.xlim(-escala, escala)\n",
    "\n",
    "sns.scatterplot(x=\"X\", y=\"Y\",\n",
    "              hue=\"classe\",\n",
    "              palette=['red', 'blue'],\n",
    "              legend='full',\n",
    "              data=tsnedfs[idx]);"
   ]
  },
  {
   "cell_type": "code",
   "execution_count": null,
   "metadata": {},
   "outputs": [],
   "source": []
  },
  {
   "cell_type": "markdown",
   "metadata": {},
   "source": [
    "<h1>Probe - Normal</h1>"
   ]
  },
  {
   "cell_type": "code",
   "execution_count": 23,
   "metadata": {},
   "outputs": [],
   "source": [
    "filepath = 'datasets_resultados/Probe_Normal/'\n",
    "classeInc = \"Probe\"\n",
    "classeReal = \"Adversária\"\n",
    "idx = 3"
   ]
  },
  {
   "cell_type": "code",
   "execution_count": 24,
   "metadata": {},
   "outputs": [],
   "source": [
    "dfOrig = obterDataset(filepath + 'orig_normalizado.csv')\n",
    "yOrig = [classeInc for x in range(dfOrig.shape[0])]\n",
    "dfAdvers = obterDataset(filepath + 'advers_normalizado.csv')\n",
    "yAdvers = [classeReal for x in range(dfAdvers.shape[0])]\n",
    "dfCon = pd.concat([dfOrig, dfAdvers])\n",
    "dfConcats[idx] = dfCon\n",
    "ys[idx] = yOrig + yAdvers\n",
    "markers[idx] = ['o' for x in range(dfOrig.shape[0])] + ['+' for x in range(dfAdvers.shape[0])]"
   ]
  },
  {
   "cell_type": "code",
   "execution_count": 25,
   "metadata": {},
   "outputs": [],
   "source": [
    "tsne = TSNE(n_components=2, random_state=0)"
   ]
  },
  {
   "cell_type": "code",
   "execution_count": 26,
   "metadata": {},
   "outputs": [],
   "source": [
    "tsne_obj = tsne.fit_transform(dfCon)"
   ]
  },
  {
   "cell_type": "code",
   "execution_count": 27,
   "metadata": {},
   "outputs": [
    {
     "data": {
      "text/html": [
       "<div>\n",
       "<style scoped>\n",
       "    .dataframe tbody tr th:only-of-type {\n",
       "        vertical-align: middle;\n",
       "    }\n",
       "\n",
       "    .dataframe tbody tr th {\n",
       "        vertical-align: top;\n",
       "    }\n",
       "\n",
       "    .dataframe thead th {\n",
       "        text-align: right;\n",
       "    }\n",
       "</style>\n",
       "<table border=\"1\" class=\"dataframe\">\n",
       "  <thead>\n",
       "    <tr style=\"text-align: right;\">\n",
       "      <th></th>\n",
       "      <th>X</th>\n",
       "      <th>Y</th>\n",
       "      <th>classe</th>\n",
       "    </tr>\n",
       "  </thead>\n",
       "  <tbody>\n",
       "    <tr>\n",
       "      <th>0</th>\n",
       "      <td>8.455503</td>\n",
       "      <td>-3.058843</td>\n",
       "      <td>Probe</td>\n",
       "    </tr>\n",
       "    <tr>\n",
       "      <th>1</th>\n",
       "      <td>-19.429909</td>\n",
       "      <td>194.395203</td>\n",
       "      <td>Probe</td>\n",
       "    </tr>\n",
       "    <tr>\n",
       "      <th>2</th>\n",
       "      <td>-53.030487</td>\n",
       "      <td>-109.545715</td>\n",
       "      <td>Probe</td>\n",
       "    </tr>\n",
       "    <tr>\n",
       "      <th>3</th>\n",
       "      <td>-24.497839</td>\n",
       "      <td>123.069099</td>\n",
       "      <td>Probe</td>\n",
       "    </tr>\n",
       "    <tr>\n",
       "      <th>4</th>\n",
       "      <td>-38.180553</td>\n",
       "      <td>4.852070</td>\n",
       "      <td>Probe</td>\n",
       "    </tr>\n",
       "  </tbody>\n",
       "</table>\n",
       "</div>"
      ],
      "text/plain": [
       "           X           Y classe\n",
       "0   8.455503   -3.058843  Probe\n",
       "1 -19.429909  194.395203  Probe\n",
       "2 -53.030487 -109.545715  Probe\n",
       "3 -24.497839  123.069099  Probe\n",
       "4 -38.180553    4.852070  Probe"
      ]
     },
     "execution_count": 27,
     "metadata": {},
     "output_type": "execute_result"
    }
   ],
   "source": [
    "tsnedfs[idx] = pd.DataFrame({'X':tsne_obj[:,0],\n",
    "                        'Y':tsne_obj[:,1],\n",
    "                        'classe':yOrig + yAdvers})\n",
    "tsnedfs[idx].head()"
   ]
  },
  {
   "cell_type": "code",
   "execution_count": 28,
   "metadata": {
    "scrolled": false
   },
   "outputs": [
    {
     "data": {
      "image/png": "[encoded data removed]",
      "text/plain": [
       "<Figure size 720x576 with 1 Axes>"
      ]
     },
     "metadata": {},
     "output_type": "display_data"
    }
   ],
   "source": [
    "plt.ylim(-escala, escala)\n",
    "plt.xlim(-escala, escala)\n",
    "\n",
    "sns.scatterplot(x=\"X\", y=\"Y\",\n",
    "              hue=\"classe\",\n",
    "              palette=['red', 'blue'],\n",
    "              legend='full',\n",
    "              data=tsnedfs[idx]);"
   ]
  },
  {
   "cell_type": "code",
   "execution_count": null,
   "metadata": {},
   "outputs": [],
   "source": []
  },
  {
   "cell_type": "markdown",
   "metadata": {},
   "source": [
    "<h1>Normal - R2L</h1>"
   ]
  },
  {
   "cell_type": "code",
   "execution_count": 29,
   "metadata": {},
   "outputs": [],
   "source": [
    "filepath = 'datasets_resultados/Normal_R2L/'\n",
    "classeInc = \"Normal\"\n",
    "classeReal = \"Adversária\"\n",
    "idx = 4"
   ]
  },
  {
   "cell_type": "code",
   "execution_count": 30,
   "metadata": {},
   "outputs": [],
   "source": [
    "dfOrig = obterDataset(filepath + 'orig_normalizado.csv')\n",
    "yOrig = [classeInc for x in range(dfOrig.shape[0])]\n",
    "dfAdvers = obterDataset(filepath + 'advers_normalizado.csv')\n",
    "yAdvers = [classeReal for x in range(dfAdvers.shape[0])]\n",
    "dfCon = pd.concat([dfOrig, dfAdvers])\n",
    "dfConcats[idx] = dfCon\n",
    "ys[idx] = yOrig + yAdvers\n",
    "markers[idx] = ['o' for x in range(dfOrig.shape[0])] + ['+' for x in range(dfAdvers.shape[0])]"
   ]
  },
  {
   "cell_type": "code",
   "execution_count": 31,
   "metadata": {},
   "outputs": [],
   "source": [
    "tsne = TSNE(n_components=2, random_state=0)"
   ]
  },
  {
   "cell_type": "code",
   "execution_count": 32,
   "metadata": {},
   "outputs": [],
   "source": [
    "tsne_obj = tsne.fit_transform(dfCon)"
   ]
  },
  {
   "cell_type": "code",
   "execution_count": 33,
   "metadata": {},
   "outputs": [
    {
     "data": {
      "text/html": [
       "<div>\n",
       "<style scoped>\n",
       "    .dataframe tbody tr th:only-of-type {\n",
       "        vertical-align: middle;\n",
       "    }\n",
       "\n",
       "    .dataframe tbody tr th {\n",
       "        vertical-align: top;\n",
       "    }\n",
       "\n",
       "    .dataframe thead th {\n",
       "        text-align: right;\n",
       "    }\n",
       "</style>\n",
       "<table border=\"1\" class=\"dataframe\">\n",
       "  <thead>\n",
       "    <tr style=\"text-align: right;\">\n",
       "      <th></th>\n",
       "      <th>X</th>\n",
       "      <th>Y</th>\n",
       "      <th>classe</th>\n",
       "    </tr>\n",
       "  </thead>\n",
       "  <tbody>\n",
       "    <tr>\n",
       "      <th>0</th>\n",
       "      <td>-11.808772</td>\n",
       "      <td>9.272418</td>\n",
       "      <td>Normal</td>\n",
       "    </tr>\n",
       "    <tr>\n",
       "      <th>1</th>\n",
       "      <td>2.208528</td>\n",
       "      <td>-15.070286</td>\n",
       "      <td>Normal</td>\n",
       "    </tr>\n",
       "    <tr>\n",
       "      <th>2</th>\n",
       "      <td>-7.656996</td>\n",
       "      <td>6.038723</td>\n",
       "      <td>Normal</td>\n",
       "    </tr>\n",
       "    <tr>\n",
       "      <th>3</th>\n",
       "      <td>4.396803</td>\n",
       "      <td>-11.210114</td>\n",
       "      <td>Normal</td>\n",
       "    </tr>\n",
       "    <tr>\n",
       "      <th>4</th>\n",
       "      <td>1.504003</td>\n",
       "      <td>-8.697693</td>\n",
       "      <td>Normal</td>\n",
       "    </tr>\n",
       "  </tbody>\n",
       "</table>\n",
       "</div>"
      ],
      "text/plain": [
       "           X          Y  classe\n",
       "0 -11.808772   9.272418  Normal\n",
       "1   2.208528 -15.070286  Normal\n",
       "2  -7.656996   6.038723  Normal\n",
       "3   4.396803 -11.210114  Normal\n",
       "4   1.504003  -8.697693  Normal"
      ]
     },
     "execution_count": 33,
     "metadata": {},
     "output_type": "execute_result"
    }
   ],
   "source": [
    "tsnedfs[idx] = pd.DataFrame({'X':tsne_obj[:,0],\n",
    "                        'Y':tsne_obj[:,1],\n",
    "                        'classe':yOrig + yAdvers})\n",
    "tsnedfs[idx].head()"
   ]
  },
  {
   "cell_type": "code",
   "execution_count": 34,
   "metadata": {
    "scrolled": true
   },
   "outputs": [
    {
     "data": {
      "image/png": "[encoded data removed]",
      "text/plain": [
       "<Figure size 720x576 with 1 Axes>"
      ]
     },
     "metadata": {},
     "output_type": "display_data"
    }
   ],
   "source": [
    "plt.ylim(-escala, escala)\n",
    "plt.xlim(-escala, escala)\n",
    "\n",
    "sns.scatterplot(x=\"X\", y=\"Y\",\n",
    "              hue=\"classe\",\n",
    "              palette=['red', 'blue'],\n",
    "              legend='full',\n",
    "              data=tsnedfs[idx]);"
   ]
  },
  {
   "cell_type": "code",
   "execution_count": null,
   "metadata": {},
   "outputs": [],
   "source": []
  },
  {
   "cell_type": "markdown",
   "metadata": {},
   "source": [
    "<h1>R2L - Normal</h1>"
   ]
  },
  {
   "cell_type": "code",
   "execution_count": 35,
   "metadata": {},
   "outputs": [],
   "source": [
    "filepath = 'datasets_resultados/R2L_Normal/'\n",
    "classeInc = \"R2L\"\n",
    "classeReal = \"Adversária\"\n",
    "idx = 5"
   ]
  },
  {
   "cell_type": "code",
   "execution_count": 36,
   "metadata": {},
   "outputs": [],
   "source": [
    "dfOrig = obterDataset(filepath + 'orig_normalizado.csv')\n",
    "yOrig = [classeInc for x in range(dfOrig.shape[0])]\n",
    "dfAdvers = obterDataset(filepath + 'advers_normalizado.csv')\n",
    "yAdvers = [classeReal for x in range(dfAdvers.shape[0])]\n",
    "dfCon = pd.concat([dfOrig, dfAdvers])\n",
    "dfConcats[idx] = dfCon\n",
    "ys[idx] = yOrig + yAdvers\n",
    "markers[idx] = ['o' for x in range(dfOrig.shape[0])] + ['+' for x in range(dfAdvers.shape[0])]"
   ]
  },
  {
   "cell_type": "code",
   "execution_count": 37,
   "metadata": {},
   "outputs": [],
   "source": [
    "tsne = TSNE(n_components=2, random_state=0)"
   ]
  },
  {
   "cell_type": "code",
   "execution_count": 38,
   "metadata": {},
   "outputs": [],
   "source": [
    "tsne_obj = tsne.fit_transform(dfCon)"
   ]
  },
  {
   "cell_type": "code",
   "execution_count": 39,
   "metadata": {},
   "outputs": [
    {
     "data": {
      "text/html": [
       "<div>\n",
       "<style scoped>\n",
       "    .dataframe tbody tr th:only-of-type {\n",
       "        vertical-align: middle;\n",
       "    }\n",
       "\n",
       "    .dataframe tbody tr th {\n",
       "        vertical-align: top;\n",
       "    }\n",
       "\n",
       "    .dataframe thead th {\n",
       "        text-align: right;\n",
       "    }\n",
       "</style>\n",
       "<table border=\"1\" class=\"dataframe\">\n",
       "  <thead>\n",
       "    <tr style=\"text-align: right;\">\n",
       "      <th></th>\n",
       "      <th>X</th>\n",
       "      <th>Y</th>\n",
       "      <th>classe</th>\n",
       "    </tr>\n",
       "  </thead>\n",
       "  <tbody>\n",
       "    <tr>\n",
       "      <th>0</th>\n",
       "      <td>7.632731</td>\n",
       "      <td>19.424828</td>\n",
       "      <td>R2L</td>\n",
       "    </tr>\n",
       "    <tr>\n",
       "      <th>1</th>\n",
       "      <td>2.476355</td>\n",
       "      <td>-10.229211</td>\n",
       "      <td>R2L</td>\n",
       "    </tr>\n",
       "    <tr>\n",
       "      <th>2</th>\n",
       "      <td>3.811248</td>\n",
       "      <td>-8.513669</td>\n",
       "      <td>R2L</td>\n",
       "    </tr>\n",
       "    <tr>\n",
       "      <th>3</th>\n",
       "      <td>0.933113</td>\n",
       "      <td>-10.495691</td>\n",
       "      <td>R2L</td>\n",
       "    </tr>\n",
       "    <tr>\n",
       "      <th>4</th>\n",
       "      <td>-0.590339</td>\n",
       "      <td>-16.578394</td>\n",
       "      <td>R2L</td>\n",
       "    </tr>\n",
       "  </tbody>\n",
       "</table>\n",
       "</div>"
      ],
      "text/plain": [
       "          X          Y classe\n",
       "0  7.632731  19.424828    R2L\n",
       "1  2.476355 -10.229211    R2L\n",
       "2  3.811248  -8.513669    R2L\n",
       "3  0.933113 -10.495691    R2L\n",
       "4 -0.590339 -16.578394    R2L"
      ]
     },
     "execution_count": 39,
     "metadata": {},
     "output_type": "execute_result"
    }
   ],
   "source": [
    "tsnedfs[idx] = pd.DataFrame({'X':tsne_obj[:,0],\n",
    "                        'Y':tsne_obj[:,1],\n",
    "                        'classe':yOrig + yAdvers})\n",
    "tsnedfs[idx].head()"
   ]
  },
  {
   "cell_type": "code",
   "execution_count": 40,
   "metadata": {
    "scrolled": false
   },
   "outputs": [
    {
     "data": {
      "image/png": "[encoded data removed]",
      "text/plain": [
       "<Figure size 720x576 with 1 Axes>"
      ]
     },
     "metadata": {},
     "output_type": "display_data"
    }
   ],
   "source": [
    "plt.ylim(-escala, escala)\n",
    "plt.xlim(-escala, escala)\n",
    "\n",
    "sns.scatterplot(x=\"X\", y=\"Y\",\n",
    "              hue=\"classe\",\n",
    "              palette=['red', 'blue'],\n",
    "              legend='full',\n",
    "              data=tsnedfs[idx]);"
   ]
  },
  {
   "cell_type": "code",
   "execution_count": null,
   "metadata": {},
   "outputs": [],
   "source": []
  },
  {
   "cell_type": "markdown",
   "metadata": {},
   "source": [
    "<h1>U2R - Normal</h1>"
   ]
  },
  {
   "cell_type": "code",
   "execution_count": 62,
   "metadata": {},
   "outputs": [],
   "source": [
    "filepath = 'datasets_resultados/U2R_Normal/'\n",
    "classeInc = \"U2R\"\n",
    "classeReal = \"Adversária\"\n",
    "idx = 6"
   ]
  },
  {
   "cell_type": "code",
   "execution_count": 63,
   "metadata": {},
   "outputs": [],
   "source": [
    "dfOrig = obterDataset(filepath + 'orig_normalizado.csv')\n",
    "yOrig = [classeInc for x in range(dfOrig.shape[0])]\n",
    "dfAdvers = obterDataset(filepath + 'advers_normalizado.csv')\n",
    "yAdvers = [classeReal for x in range(dfAdvers.shape[0])]\n",
    "dfCon = pd.concat([dfOrig, dfAdvers])\n",
    "dfConcats[idx] = dfCon\n",
    "ys[idx] = yOrig + yAdvers\n",
    "markers[idx] = ['o' for x in range(dfOrig.shape[0])] + ['+' for x in range(dfAdvers.shape[0])]"
   ]
  },
  {
   "cell_type": "code",
   "execution_count": 64,
   "metadata": {},
   "outputs": [],
   "source": [
    "tsne = TSNE(n_components=2, random_state=0)"
   ]
  },
  {
   "cell_type": "code",
   "execution_count": 65,
   "metadata": {},
   "outputs": [],
   "source": [
    "tsne_obj = tsne.fit_transform(dfCon)"
   ]
  },
  {
   "cell_type": "code",
   "execution_count": 66,
   "metadata": {},
   "outputs": [
    {
     "data": {
      "text/html": [
       "<div>\n",
       "<style scoped>\n",
       "    .dataframe tbody tr th:only-of-type {\n",
       "        vertical-align: middle;\n",
       "    }\n",
       "\n",
       "    .dataframe tbody tr th {\n",
       "        vertical-align: top;\n",
       "    }\n",
       "\n",
       "    .dataframe thead th {\n",
       "        text-align: right;\n",
       "    }\n",
       "</style>\n",
       "<table border=\"1\" class=\"dataframe\">\n",
       "  <thead>\n",
       "    <tr style=\"text-align: right;\">\n",
       "      <th></th>\n",
       "      <th>X</th>\n",
       "      <th>Y</th>\n",
       "      <th>classe</th>\n",
       "    </tr>\n",
       "  </thead>\n",
       "  <tbody>\n",
       "    <tr>\n",
       "      <th>0</th>\n",
       "      <td>-21.885721</td>\n",
       "      <td>56.920643</td>\n",
       "      <td>U2R</td>\n",
       "    </tr>\n",
       "    <tr>\n",
       "      <th>1</th>\n",
       "      <td>-37.049141</td>\n",
       "      <td>-31.822569</td>\n",
       "      <td>U2R</td>\n",
       "    </tr>\n",
       "    <tr>\n",
       "      <th>2</th>\n",
       "      <td>59.441059</td>\n",
       "      <td>-118.812157</td>\n",
       "      <td>U2R</td>\n",
       "    </tr>\n",
       "    <tr>\n",
       "      <th>3</th>\n",
       "      <td>-69.553612</td>\n",
       "      <td>-8.920124</td>\n",
       "      <td>U2R</td>\n",
       "    </tr>\n",
       "    <tr>\n",
       "      <th>4</th>\n",
       "      <td>-0.772147</td>\n",
       "      <td>18.822344</td>\n",
       "      <td>U2R</td>\n",
       "    </tr>\n",
       "  </tbody>\n",
       "</table>\n",
       "</div>"
      ],
      "text/plain": [
       "           X           Y classe\n",
       "0 -21.885721   56.920643    U2R\n",
       "1 -37.049141  -31.822569    U2R\n",
       "2  59.441059 -118.812157    U2R\n",
       "3 -69.553612   -8.920124    U2R\n",
       "4  -0.772147   18.822344    U2R"
      ]
     },
     "execution_count": 66,
     "metadata": {},
     "output_type": "execute_result"
    }
   ],
   "source": [
    "tsnedfs[idx] = pd.DataFrame({'X':tsne_obj[:,0],\n",
    "                        'Y':tsne_obj[:,1],\n",
    "                        'classe':yOrig + yAdvers})\n",
    "tsnedfs[idx].head()"
   ]
  },
  {
   "cell_type": "code",
   "execution_count": 67,
   "metadata": {
    "scrolled": false
   },
   "outputs": [
    {
     "data": {
      "image/png": "[encoded data removed]",
      "text/plain": [
       "<Figure size 720x576 with 1 Axes>"
      ]
     },
     "metadata": {},
     "output_type": "display_data"
    }
   ],
   "source": [
    "plt.ylim(-escala, escala)\n",
    "plt.xlim(-escala, escala)\n",
    "\n",
    "sns.scatterplot(x=\"X\", y=\"Y\",\n",
    "              hue=\"classe\",\n",
    "              palette=['red', 'blue'],\n",
    "              legend='full',\n",
    "              data=tsnedfs[idx]);"
   ]
  },
  {
   "cell_type": "markdown",
   "metadata": {},
   "source": [
    "<h1>Tudo junto</h1>"
   ]
  },
  {
   "cell_type": "code",
   "execution_count": 76,
   "metadata": {},
   "outputs": [],
   "source": [
    "tsne = TSNE(n_components=2, random_state=24, learning_rate=100, n_iter=10000)\n",
    "tsne_objAll = tsne.fit_transform(pd.concat(dfConcats))\n",
    "escala = 75"
   ]
  },
  {
   "cell_type": "code",
   "execution_count": 77,
   "metadata": {},
   "outputs": [],
   "source": [
    "tsnedf_all = pd.DataFrame({'X':tsne_objAll[:,0],\n",
    "                        'Y':tsne_objAll[:,1],\n",
    "                        'classe':ys[0] + ys[1] + ys[2] + ys[3] + ys[4] + ys[5] + ys[6] })\n",
    "tsnedf_all = tsnedf_all.sort_values(by=['classe'], ascending=False)"
   ]
  },
  {
   "cell_type": "code",
   "execution_count": 78,
   "metadata": {},
   "outputs": [
    {
     "data": {
      "image/png": "[encoded data removed]",
      "text/plain": [
       "<Figure size 720x576 with 1 Axes>"
      ]
     },
     "metadata": {},
     "output_type": "display_data"
    }
   ],
   "source": [
    "plt.ylim(-escala, escala)\n",
    "plt.xlim(-escala, escala)\n",
    "\n",
    "sns.scatterplot(x=\"X\", y=\"Y\",\n",
    "              hue=\"classe\",\n",
    "              palette=['magenta', 'blue', 'purple', 'green', 'orange', 'red'],\n",
    "              legend='full',\n",
    "              data=tsnedf_all);"
   ]
  },
  {
   "cell_type": "code",
   "execution_count": 79,
   "metadata": {},
   "outputs": [
    {
     "data": {
      "image/png": "[encoded data removed]",
      "text/plain": [
       "<Figure size 720x576 with 1 Axes>"
      ]
     },
     "metadata": {},
     "output_type": "display_data"
    }
   ],
   "source": [
    "plt.ylim(-escala, escala)\n",
    "plt.xlim(-escala, escala)\n",
    "\n",
    "sns.scatterplot(x=\"X\", y=\"Y\",\n",
    "              hue=\"classe\",\n",
    "              palette=['magenta', 'blue', 'purple', 'green', 'orange'],\n",
    "              legend='full',\n",
    "              data=tsnedf_all.loc[tsnedf_all['classe'] != \"Adversária\"]);"
   ]
  },
  {
   "cell_type": "code",
   "execution_count": null,
   "metadata": {},
   "outputs": [],
   "source": []
  },
  {
   "cell_type": "code",
   "execution_count": null,
   "metadata": {},
   "outputs": [],
   "source": []
  },
  {
   "cell_type": "code",
   "execution_count": null,
   "metadata": {},
   "outputs": [],
   "source": []
  },
  {
   "cell_type": "code",
   "execution_count": null,
   "metadata": {},
   "outputs": [],
   "source": []
  },
  {
   "cell_type": "code",
   "execution_count": null,
   "metadata": {},
   "outputs": [],
   "source": []
  },
  {
   "cell_type": "code",
   "execution_count": null,
   "metadata": {},
   "outputs": [],
   "source": []
  },
  {
   "cell_type": "code",
   "execution_count": null,
   "metadata": {},
   "outputs": [],
   "source": []
  },
  {
   "cell_type": "code",
   "execution_count": null,
   "metadata": {},
   "outputs": [],
   "source": []
  }
 ],
 "metadata": {
  "kernelspec": {
   "display_name": "Python 3",
   "language": "python",
   "name": "python3"
  },
  "language_info": {
   "codemirror_mode": {
    "name": "ipython",
    "version": 3
   },
   "file_extension": ".py",
   "mimetype": "text/x-python",
   "name": "python",
   "nbconvert_exporter": "python",
   "pygments_lexer": "ipython3",
   "version": "3.8.3"
  }
 },
 "nbformat": 4,
 "nbformat_minor": 4
}
